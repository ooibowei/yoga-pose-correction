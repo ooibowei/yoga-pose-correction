{
 "cells": [
  {
   "cell_type": "code",
   "execution_count": null,
   "id": "initial_id",
   "metadata": {
    "collapsed": true
   },
   "outputs": [],
   "source": [
    "import cv2\n",
    "import numpy as np\n",
    "import mediapipe as mp\n",
    "from mediapipe.framework.formats import landmark_pb2\n",
    "from mediapipe import solutions\n",
    "from mediapipe.tasks import python\n",
    "from mediapipe.tasks.python import vision\n",
    "\n",
    "def draw_landmarks_on_image(rgb_image, detection_result):\n",
    "    pose_lm = detection_result.pose_landmarks[0]\n",
    "    annotated_image = np.copy(rgb_image)\n",
    "    pose_landmarks_proto = landmark_pb2.NormalizedLandmarkList()\n",
    "    pose_landmarks_proto.landmark.extend([\n",
    "      landmark_pb2.NormalizedLandmark(x=landmark.x, y=landmark.y, z=landmark.z) for landmark in pose_lm\n",
    "    ])\n",
    "    solutions.drawing_utils.draw_landmarks(\n",
    "      annotated_image,\n",
    "      pose_landmarks_proto,\n",
    "      solutions.pose.POSE_CONNECTIONS,\n",
    "      solutions.drawing_styles.get_default_pose_landmarks_style())\n",
    "    return annotated_image"
   ]
  },
  {
   "metadata": {},
   "cell_type": "code",
   "outputs": [],
   "execution_count": null,
   "source": [
    "model_path = 'models/pose_landmarker_heavy.task'\n",
    "base_options = python.BaseOptions(model_asset_path=model_path)\n",
    "options = vision.PoseLandmarkerOptions(base_options=base_options)\n",
    "pose_landmarker = vision.PoseLandmarker.create_from_options(options)"
   ],
   "id": "bb5b8b5d2e1fd57b"
  },
  {
   "metadata": {},
   "cell_type": "code",
   "outputs": [],
   "execution_count": null,
   "source": [
    "image = cv2.imread('data/raw/Sitting pose 1 (normal)/Sitting pose 1 (normal)_image_10.jpg')\n",
    "image_rgb = cv2.cvtColor(image, cv2.COLOR_BGR2RGB)\n",
    "mp_image = mp.Image(image_format=mp.ImageFormat.SRGB, data=image_rgb)\n",
    "pose_res = pose_landmarker.detect(mp_image)\n",
    "annotated_image = draw_landmarks_on_image(mp_image.numpy_view(), pose_res)\n",
    "cv2.imshow(\"Pose Landmarks\", cv2.cvtColor(annotated_image, cv2.COLOR_RGB2BGR))\n",
    "key = cv2.waitKey(0)\n",
    "cv2.destroyAllWindows()"
   ],
   "id": "3b818799b1f27259"
  }
 ],
 "metadata": {
  "kernelspec": {
   "display_name": "Python 3",
   "language": "python",
   "name": "python3"
  },
  "language_info": {
   "codemirror_mode": {
    "name": "ipython",
    "version": 2
   },
   "file_extension": ".py",
   "mimetype": "text/x-python",
   "name": "python",
   "nbconvert_exporter": "python",
   "pygments_lexer": "ipython2",
   "version": "2.7.6"
  }
 },
 "nbformat": 4,
 "nbformat_minor": 5
}
